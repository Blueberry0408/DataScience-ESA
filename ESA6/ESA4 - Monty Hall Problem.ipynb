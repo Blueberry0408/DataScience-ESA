{
 "cells": [
  {
   "cell_type": "code",
   "execution_count": 20,
   "id": "778828e6",
   "metadata": {},
   "outputs": [
    {
     "name": "stdout",
     "output_type": "stream",
     "text": [
      "The success rate with changing the door is:  70  the success rate without changing the door is:  30\n"
     ]
    }
   ],
   "source": [
    "import random as random\n",
    "\n",
    "experimentnumber = 100\n",
    "\n",
    "def montyhall(experimentnumber):\n",
    "    \n",
    "    successChange = 0\n",
    "    successNoChange = 0\n",
    "    \n",
    "    for i in range(experimentnumber):\n",
    "        \n",
    "        doors = [0,0,0]\n",
    "        car_door = random.randint(0,2)\n",
    "        \n",
    "        contestant_choice = random.randint(0, 2)\n",
    "        \n",
    "        monty_choices = [door for door in range(0, 3) if door != contestant_choice and door != car_door]\n",
    "        monty_open = random.choice(monty_choices)\n",
    "        \n",
    "        switch_choice = [door for door in range(0, 3) if door != contestant_choice and door != monty_open][0]\n",
    "        if switch_choice == car_door:\n",
    "            successChange += 1\n",
    "            \n",
    "        if contestant_choice == car_door:\n",
    "            successNoChange += 1      \n",
    "    \n",
    "    return successChange, successNoChange\n",
    "\n",
    "\n",
    "successChange, successNoChange = montyhall(experimentnumber)\n",
    "\n",
    "print(\"The success rate with changing the door is: \", successChange, \" the success rate without changing the door is: \", successNoChange)\n",
    "    "
   ]
  },
  {
   "cell_type": "code",
   "execution_count": null,
   "id": "32abf2bd",
   "metadata": {},
   "outputs": [],
   "source": []
  },
  {
   "cell_type": "code",
   "execution_count": null,
   "id": "390391ad",
   "metadata": {},
   "outputs": [],
   "source": []
  }
 ],
 "metadata": {
  "kernelspec": {
   "display_name": "Python 3 (ipykernel)",
   "language": "python",
   "name": "python3"
  },
  "language_info": {
   "codemirror_mode": {
    "name": "ipython",
    "version": 3
   },
   "file_extension": ".py",
   "mimetype": "text/x-python",
   "name": "python",
   "nbconvert_exporter": "python",
   "pygments_lexer": "ipython3",
   "version": "3.11.5"
  }
 },
 "nbformat": 4,
 "nbformat_minor": 5
}
