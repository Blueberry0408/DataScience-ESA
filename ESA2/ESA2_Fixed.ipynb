{
 "cells": [
  {
   "cell_type": "code",
   "execution_count": 17,
   "id": "ccba95e4",
   "metadata": {
    "scrolled": true
   },
   "outputs": [],
   "source": [
    "# Aufgabe 1: \n",
    "# Write 2 python function to get the indices of the sorted elements of given lists and compare the speed. \n",
    "# one is without numpy package and the other is with numpy. \n",
    "# (raise an error message if the input is null or not numerical)\n",
    "\n",
    "\n",
    "import numpy as np\n",
    "import pandas as pd\n",
    "import random\n",
    "import time\n",
    "\n",
    "list1 = [23, 104, 5, 190, 8, 7, -3]\n",
    "list2 = []\n",
    "list3 = [random.randint(1, 100000) for _ in range(1000000)] \n",
    "\n",
    "# Function with numpy\n",
    "def sorted_indices_numpy(lst): \n",
    "    if not lst:\n",
    "        raise ValueError(\"There is nothing in the list!\")\n",
    "    for item in lst:\n",
    "        if not isinstance(item, (int, float)):\n",
    "            raise ValueError(\"Value in list is not numerical!\")\n",
    "    list_arr = np.array(lst)\n",
    "    indices = np.argsort(list_arr, kind='stable')\n",
    "    return indices\n",
    "\n",
    "\n",
    "# Function without numpy\n",
    "def sorted_indices(lst):\n",
    "    if not lst:\n",
    "        raise ValueError(\"There is nothing in the list!\")\n",
    "    for item in lst:\n",
    "        if not isinstance(item, (int, float)):\n",
    "            raise ValueError(\"Value in list is not numerical!\")\n",
    "    indices = sorted(range(len(lst)), key=lambda i: lst[i])\n",
    "    return indices"
   ]
  },
  {
   "cell_type": "code",
   "execution_count": 18,
   "id": "219c386c",
   "metadata": {},
   "outputs": [
    {
     "name": "stdout",
     "output_type": "stream",
     "text": [
      "List 1:\n",
      "Indices without NumPy: [6, 2, 5, 4, 0, 1, 3]\n",
      "Computation time without numpy: 0.0\n",
      "Indices with NumPy: [6 2 5 4 0 1 3]\n",
      "Computation time with numpy: 0.0\n"
     ]
    }
   ],
   "source": [
    "# Ausgabe:\n",
    "# List 1\n",
    "print(\"List 1:\")\n",
    "start1 = time.time()\n",
    "sorted_indices(list1)\n",
    "time1 = time.time() - start1\n",
    "print(\"Indices without NumPy:\", sorted_indices(list1))\n",
    "print(f\"Computation time without numpy: {time1}\")\n",
    "\n",
    "start2 = time.time() \n",
    "sorted_indices_numpy(list1)\n",
    "time2 = time.time() - start2\n",
    "print(\"Indices with NumPy:\", sorted_indices_numpy(list1))\n",
    "print(f\"Computation time with numpy: {time2}\")"
   ]
  },
  {
   "cell_type": "code",
   "execution_count": 19,
   "id": "10602216",
   "metadata": {},
   "outputs": [
    {
     "name": "stdout",
     "output_type": "stream",
     "text": [
      "List 2:\n"
     ]
    },
    {
     "ename": "ValueError",
     "evalue": "There is nothing in the list!",
     "output_type": "error",
     "traceback": [
      "\u001b[1;31m---------------------------------------------------------------------------\u001b[0m",
      "\u001b[1;31mValueError\u001b[0m                                Traceback (most recent call last)",
      "Cell \u001b[1;32mIn[19], line 4\u001b[0m\n\u001b[0;32m      2\u001b[0m \u001b[38;5;28mprint\u001b[39m(\u001b[38;5;124m\"\u001b[39m\u001b[38;5;124mList 2:\u001b[39m\u001b[38;5;124m\"\u001b[39m)\n\u001b[0;32m      3\u001b[0m start1 \u001b[38;5;241m=\u001b[39m time\u001b[38;5;241m.\u001b[39mtime()\n\u001b[1;32m----> 4\u001b[0m \u001b[38;5;28mprint\u001b[39m(\u001b[38;5;124m\"\u001b[39m\u001b[38;5;124mIndices without NumPy:\u001b[39m\u001b[38;5;124m\"\u001b[39m, sorted_indices(list2))\n\u001b[0;32m      5\u001b[0m time1 \u001b[38;5;241m=\u001b[39m time\u001b[38;5;241m.\u001b[39mtime() \u001b[38;5;241m-\u001b[39m start1\n\u001b[0;32m      6\u001b[0m \u001b[38;5;28mprint\u001b[39m(\u001b[38;5;124mf\u001b[39m\u001b[38;5;124m\"\u001b[39m\u001b[38;5;124mComputation time without numpy: \u001b[39m\u001b[38;5;132;01m{\u001b[39;00mtime1\u001b[38;5;132;01m}\u001b[39;00m\u001b[38;5;124m\"\u001b[39m)\n",
      "Cell \u001b[1;32mIn[17], line 31\u001b[0m, in \u001b[0;36msorted_indices\u001b[1;34m(lst)\u001b[0m\n\u001b[0;32m     29\u001b[0m \u001b[38;5;28;01mdef\u001b[39;00m \u001b[38;5;21msorted_indices\u001b[39m(lst):\n\u001b[0;32m     30\u001b[0m     \u001b[38;5;28;01mif\u001b[39;00m \u001b[38;5;129;01mnot\u001b[39;00m lst:\n\u001b[1;32m---> 31\u001b[0m         \u001b[38;5;28;01mraise\u001b[39;00m \u001b[38;5;167;01mValueError\u001b[39;00m(\u001b[38;5;124m\"\u001b[39m\u001b[38;5;124mThere is nothing in the list!\u001b[39m\u001b[38;5;124m\"\u001b[39m)\n\u001b[0;32m     32\u001b[0m     \u001b[38;5;28;01mfor\u001b[39;00m item \u001b[38;5;129;01min\u001b[39;00m lst:\n\u001b[0;32m     33\u001b[0m         \u001b[38;5;28;01mif\u001b[39;00m \u001b[38;5;129;01mnot\u001b[39;00m \u001b[38;5;28misinstance\u001b[39m(item, (\u001b[38;5;28mint\u001b[39m, \u001b[38;5;28mfloat\u001b[39m)):\n",
      "\u001b[1;31mValueError\u001b[0m: There is nothing in the list!"
     ]
    }
   ],
   "source": [
    "# List 2\n",
    "print(\"List 2:\")\n",
    "start1 = time.time()\n",
    "print(\"Indices without NumPy:\", sorted_indices(list2))\n",
    "time1 = time.time() - start1\n",
    "print(f\"Computation time without numpy: {time1}\")\n",
    "start2 = time.time() \n",
    "print(\"Indices with NumPy:\", sorted_indices_numpy(list2))\n",
    "time2 = time.time() - start2\n",
    "print(f\"Computation time with numpy: {time2}\")"
   ]
  },
  {
   "cell_type": "code",
   "execution_count": 20,
   "id": "d1daf1e1",
   "metadata": {
    "scrolled": true
   },
   "outputs": [
    {
     "name": "stdout",
     "output_type": "stream",
     "text": [
      "List 3:\n",
      "Indices without NumPy: [5404, 63189, 101681, 196786, 321105, 458904, 474548, 606921, 693353, 809849]\n",
      "Computation time without numpy: 0.5315971374511719\n",
      "Indices with NumPy: [  5404  63189 101681 ... 644716 921402 978975]\n",
      "Computation time with numpy: 0.3480689525604248\n"
     ]
    }
   ],
   "source": [
    "#List 3:\n",
    "print(\"List 3:\")\n",
    "start1 = time.time()\n",
    "sorted_indices(list3)\n",
    "time1 = time.time() - start1\n",
    "print(\"Indices without NumPy:\", sorted_indices(list3)[:10]) #da die Ausgabe hier zu groß wurde Printe ich nur die ersten 10\n",
    "print(f\"Computation time without numpy: {time1}\")\n",
    "\n",
    "start2 = time.time() \n",
    "sorted_indices_numpy(list3)\n",
    "time2 = time.time() - start2\n",
    "print(\"Indices with NumPy:\", sorted_indices_numpy(list3))\n",
    "print(f\"Computation time with numpy: {time2}\")"
   ]
  },
  {
   "cell_type": "code",
   "execution_count": 26,
   "id": "80da2504",
   "metadata": {
    "scrolled": true
   },
   "outputs": [],
   "source": [
    "# Aufgabe 2:\n",
    "\n",
    "# Load the countries.csv directly via URL import into your panda data frame!\n",
    "url = \"https://raw.githubusercontent.com/WHPAN0108/BHT-DataScience-S23/main/python-DS/country.csv\"\n",
    "df = pd.read_csv(url)"
   ]
  },
  {
   "cell_type": "code",
   "execution_count": 27,
   "id": "28df0a2b",
   "metadata": {},
   "outputs": [
    {
     "data": {
      "text/html": [
       "<div>\n",
       "<style scoped>\n",
       "    .dataframe tbody tr th:only-of-type {\n",
       "        vertical-align: middle;\n",
       "    }\n",
       "\n",
       "    .dataframe tbody tr th {\n",
       "        vertical-align: top;\n",
       "    }\n",
       "\n",
       "    .dataframe thead th {\n",
       "        text-align: right;\n",
       "    }\n",
       "</style>\n",
       "<table border=\"1\" class=\"dataframe\">\n",
       "  <thead>\n",
       "    <tr style=\"text-align: right;\">\n",
       "      <th></th>\n",
       "      <th>Population</th>\n",
       "      <th>Area</th>\n",
       "      <th>GDP</th>\n",
       "    </tr>\n",
       "  </thead>\n",
       "  <tbody>\n",
       "    <tr>\n",
       "      <th>count</th>\n",
       "      <td>7.000000e+00</td>\n",
       "      <td>7.000000e+00</td>\n",
       "      <td>6.000000</td>\n",
       "    </tr>\n",
       "    <tr>\n",
       "      <th>mean</th>\n",
       "      <td>8.086839e+07</td>\n",
       "      <td>2.926464e+06</td>\n",
       "      <td>2387.500000</td>\n",
       "    </tr>\n",
       "    <tr>\n",
       "      <th>std</th>\n",
       "      <td>6.670195e+07</td>\n",
       "      <td>4.348507e+06</td>\n",
       "      <td>1532.497537</td>\n",
       "    </tr>\n",
       "    <tr>\n",
       "      <th>min</th>\n",
       "      <td>2.393827e+07</td>\n",
       "      <td>3.619700e+04</td>\n",
       "      <td>744.000000</td>\n",
       "    </tr>\n",
       "    <tr>\n",
       "      <th>25%</th>\n",
       "      <td>3.235604e+07</td>\n",
       "      <td>3.293615e+05</td>\n",
       "      <td>1596.250000</td>\n",
       "    </tr>\n",
       "    <tr>\n",
       "      <th>50%</th>\n",
       "      <td>6.050172e+07</td>\n",
       "      <td>3.778350e+05</td>\n",
       "      <td>1824.000000</td>\n",
       "    </tr>\n",
       "    <tr>\n",
       "      <th>75%</th>\n",
       "      <td>1.042833e+08</td>\n",
       "      <td>4.713910e+06</td>\n",
       "      <td>3062.000000</td>\n",
       "    </tr>\n",
       "    <tr>\n",
       "      <th>max</th>\n",
       "      <td>2.083600e+08</td>\n",
       "      <td>9.984670e+06</td>\n",
       "      <td>4938.000000</td>\n",
       "    </tr>\n",
       "  </tbody>\n",
       "</table>\n",
       "</div>"
      ],
      "text/plain": [
       "         Population          Area          GDP\n",
       "count  7.000000e+00  7.000000e+00     6.000000\n",
       "mean   8.086839e+07  2.926464e+06  2387.500000\n",
       "std    6.670195e+07  4.348507e+06  1532.497537\n",
       "min    2.393827e+07  3.619700e+04   744.000000\n",
       "25%    3.235604e+07  3.293615e+05  1596.250000\n",
       "50%    6.050172e+07  3.778350e+05  1824.000000\n",
       "75%    1.042833e+08  4.713910e+06  3062.000000\n",
       "max    2.083600e+08  9.984670e+06  4938.000000"
      ]
     },
     "execution_count": 27,
     "metadata": {},
     "output_type": "execute_result"
    }
   ],
   "source": [
    "# Display descriptive statistics for the numerical column (count, mean, std, min, 25%, 50%, 75%, max) HINT: describe\n",
    "df.describe()"
   ]
  },
  {
   "cell_type": "code",
   "execution_count": 28,
   "id": "3c0de19b",
   "metadata": {},
   "outputs": [
    {
     "name": "stdout",
     "output_type": "stream",
     "text": [
      "        Name  Population     Area     GDP Currency\n",
      "3      Italy    60501718   301338  1850.0      EUR\n",
      "4   Brazilia   208360000  8515770  1798.0     REAL\n",
      "5     Taiwan    23938272    36197   744.0      NTD\n",
      "6  Venezuela    28208977   912050     NaN      VED\n"
     ]
    }
   ],
   "source": [
    "# Show the last 4 rows of the data frame.\n",
    "print(df.tail(4))"
   ]
  },
  {
   "cell_type": "code",
   "execution_count": 29,
   "id": "3e44af06",
   "metadata": {},
   "outputs": [
    {
     "name": "stdout",
     "output_type": "stream",
     "text": [
      "      Name  Population    Area     GDP Currency\n",
      "0  Germany    82521653  357385  3466.0      EUR\n",
      "3    Italy    60501718  301338  1850.0      EUR\n"
     ]
    }
   ],
   "source": [
    "# Show all the rows of countries that have the EURO\n",
    "print(df[df['Currency'] == 'EUR'])"
   ]
  },
  {
   "cell_type": "code",
   "execution_count": 30,
   "id": "1a46c0e5",
   "metadata": {},
   "outputs": [
    {
     "name": "stdout",
     "output_type": "stream",
     "text": [
      "        Name Currency\n",
      "0    Germany      EUR\n",
      "1      Japan      YEN\n",
      "2     Canada      CAD\n",
      "3      Italy      EUR\n",
      "4   Brazilia     REAL\n",
      "5     Taiwan      NTD\n",
      "6  Venezuela      VED\n"
     ]
    }
   ],
   "source": [
    "# Show only name and Currency in a new data frame\n",
    "# create a dataframe\n",
    "name_currency = df[['Name', 'Currency']]\n",
    "\n",
    "# Display the new DataFrame\n",
    "print(name_currency)"
   ]
  },
  {
   "cell_type": "code",
   "execution_count": 31,
   "id": "4e9a6f1c",
   "metadata": {},
   "outputs": [
    {
     "name": "stdout",
     "output_type": "stream",
     "text": [
      "      Name  Population    Area     GDP Currency\n",
      "0  Germany    82521653  357385  3466.0      EUR\n",
      "1    Japan   126045000  377835  4938.0      YEN\n"
     ]
    }
   ],
   "source": [
    "# Show only the rows/countries that have more than 2000 GDP (it is in Milliarden USD Bruttoinlandsprodukt)\n",
    "print(df[df['GDP'] > 2000])"
   ]
  },
  {
   "cell_type": "code",
   "execution_count": 32,
   "id": "732709f4",
   "metadata": {},
   "outputs": [
    {
     "name": "stdout",
     "output_type": "stream",
     "text": [
      "      Name  Population    Area     GDP Currency\n",
      "0  Germany    82521653  357385  3466.0      EUR\n",
      "1    Japan   126045000  377835  4938.0      YEN\n",
      "3    Italy    60501718  301338  1850.0      EUR\n"
     ]
    }
   ],
   "source": [
    "# Select all countries where with inhabitants between 50 and 150 Mio\n",
    "print(df.query('50_000_000 <= Population <= 150_000_000'))"
   ]
  },
  {
   "cell_type": "code",
   "execution_count": 33,
   "id": "cd5011f2",
   "metadata": {},
   "outputs": [
    {
     "name": "stdout",
     "output_type": "stream",
     "text": [
      "2387.5\n"
     ]
    }
   ],
   "source": [
    "# Calculate the GDP average (ignore the missing value)\n",
    "average=df['GDP'].mean()\n",
    "print(average)"
   ]
  },
  {
   "cell_type": "code",
   "execution_count": 89,
   "id": "d176c797",
   "metadata": {},
   "outputs": [
    {
     "name": "stdout",
     "output_type": "stream",
     "text": [
      "2046.4285714285713\n"
     ]
    }
   ],
   "source": [
    "# Calculate the GDP average (missing value treated as 0)\n",
    "average=df['GDP'].fillna(0).mean()\n",
    "print(average)"
   ]
  },
  {
   "cell_type": "code",
   "execution_count": 90,
   "id": "5e5b6610",
   "metadata": {},
   "outputs": [
    {
     "name": "stdout",
     "output_type": "stream",
     "text": [
      "        Name  Population     Area     GDP Currency  Population Density\n",
      "0    Germany    82521653   357385  3466.0      EUR          230.904075\n",
      "1      Japan   126045000   377835  4938.0      YEN          333.597999\n",
      "2     Canada    36503097  9984670  1529.0      CAD            3.655914\n",
      "3      Italy    60501718   301338  1850.0      EUR          200.776928\n",
      "4   Brazilia   208360000  8515770  1798.0     REAL           24.467547\n",
      "5     Taiwan    23938272    36197   744.0      NTD          661.333039\n",
      "6  Venezuela    28208977   912050     NaN      VED           30.929200\n"
     ]
    }
   ],
   "source": [
    "# Calculate the population density (population/area)  of all countries and add as new column\n",
    "df['Population Density'] = df['Population'] / df['Area']\n",
    "print(df)"
   ]
  },
  {
   "cell_type": "code",
   "execution_count": 96,
   "id": "0844a8b8",
   "metadata": {},
   "outputs": [
    {
     "name": "stdout",
     "output_type": "stream",
     "text": [
      "4     Brazilia\n",
      "2       Canada\n",
      "0      Germany\n",
      "3        Italy\n",
      "1        Japan\n",
      "5       Taiwan\n",
      "6    Venezuela\n",
      "Name: Name, dtype: object\n"
     ]
    }
   ],
   "source": [
    "# Sort by country name alphabetically\n",
    "sorted_countries = df['Name'].sort_values()\n",
    "print(sorted_countries)"
   ]
  },
  {
   "cell_type": "code",
   "execution_count": 98,
   "id": "988f399c",
   "metadata": {},
   "outputs": [
    {
     "name": "stdout",
     "output_type": "stream",
     "text": [
      "        Name  Population   Area     GDP Currency  Population Density\n",
      "0    Germany    82521653  SMALL  3466.0      EUR          230.904075\n",
      "1      Japan   126045000  SMALL  4938.0      YEN          333.597999\n",
      "2     Canada    36503097    BIG  1529.0      CAD            3.655914\n",
      "3      Italy    60501718  SMALL  1850.0      EUR          200.776928\n",
      "4   Brazilia   208360000    BIG  1798.0     REAL           24.467547\n",
      "5     Taiwan    23938272  SMALL   744.0      NTD          661.333039\n",
      "6  Venezuela    28208977  SMALL     NaN      VED           30.929200\n"
     ]
    }
   ],
   "source": [
    "# Create a new data frame from the original where the area is changed: \n",
    "# all countries with > 1000000 get BIG and <= 1000000 get SMALL in the cell replaced!\n",
    "area_df = df.copy()\n",
    "area_df['Area'] = area_df['Area'].apply(lambda x: 'BIG' if x > 1000000 else 'SMALL')\n",
    "print(area_df)"
   ]
  },
  {
   "cell_type": "code",
   "execution_count": null,
   "id": "f22ea3fa",
   "metadata": {},
   "outputs": [],
   "source": []
  }
 ],
 "metadata": {
  "kernelspec": {
   "display_name": "Python 3 (ipykernel)",
   "language": "python",
   "name": "python3"
  },
  "language_info": {
   "codemirror_mode": {
    "name": "ipython",
    "version": 3
   },
   "file_extension": ".py",
   "mimetype": "text/x-python",
   "name": "python",
   "nbconvert_exporter": "python",
   "pygments_lexer": "ipython3",
   "version": "3.11.5"
  }
 },
 "nbformat": 4,
 "nbformat_minor": 5
}
